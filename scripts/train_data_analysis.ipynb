{
 "cells": [
  {
   "cell_type": "code",
   "execution_count": 58,
   "metadata": {},
   "outputs": [
    {
     "name": "stdout",
     "output_type": "stream",
     "text": [
      "[  7.70205859e-10  -1.70680727e-05   4.20590057e-01  -1.02515505e+03]\n",
      "[0, 998, 5796, 8682, 12579, 17143, 20990, 27078, 30644, 37350, 40932, 46895, 51378, 57346, 60097]\n",
      "errors from cubic regression: ==========================\n",
      "[1025.1550470640409, 731.64044505135337, -639.17234655598395, -1103.9069420387664, -1137.7555981896544, -1069.331077384446, 157.13143076520828, -100.69115596080519, 2340.7010767093634, -232.41385777459436, 3476.2265937892444, -183.65997348466044, -1488.5535689657845, -11297.580662850523, 9522.2105898255832]\n",
      "errors with interpoliation: ==================================\n",
      "[0, 49.73429951690821, -153.38105153565851, -295.01547987616095, -272.2916912894457, -1020.315301391036, 74.81479617513833, -2580.424487259166, 1144.2063862928335, -4918.53460342146, 1995.599161864855, -3235.6484778862723, 712.3535546837666, -19200.25358412662, -13930.200000000012]\n"
     ]
    },
    {
     "data": {
      "image/png": "[encoded data removed]",
      "text/plain": [
       "<matplotlib.figure.Figure at 0x1097f5f98>"
      ]
     },
     "metadata": {},
     "output_type": "display_data"
    }
   ],
   "source": [
    "import numpy as np\n",
    "\n",
    "import matplotlib.pyplot as plt\n",
    "\n",
    "velocities = [\n",
    "    0, 998, 5796, 8682, 12579, 17143, 20990, 27078, 30644, 37350, 40932, 46895, 51378, 57346, 60097,\n",
    "]\n",
    "\n",
    "stopping_distances = [\n",
    "    0, 110, 350, 740, 1960, 3980, 7563, 13040, 20340, 30772, 43890, 60410, 78498, 100917, 139302,\n",
    "]\n",
    "\n",
    "\n",
    "npres = np.polyfit(velocities, stopping_distances, deg=3)\n",
    "\n",
    "fitted_vals = list(map(lambda x: npres[0] * (x**3) + npres[1] * (x**2) + npres[2] * x + npres[3], velocities))\n",
    "print(npres)\n",
    "\n",
    "print(velocities)\n",
    "print('errors from cubic regression: ==========================')\n",
    "print(list(map(lambda x: x[0] - x[1], zip(stopping_distances, fitted_vals))))\n",
    "'''\n",
    "npres[0] * x^3 + npres[1] * x^2 + npres[2] * x + npres[3]\n",
    "'''\n",
    "#plt.plot(velocities, stopping_distances)\n",
    "plt.plot(velocities, fitted_vals)\n",
    "vals = list(range(0, 65000, 40))\n",
    "\n",
    "def get_sd_interpol(val):\n",
    "    smaller = -1\n",
    "    larger = -1\n",
    "    for i, v in enumerate(velocities):\n",
    "        if v < val:\n",
    "            smaller = i\n",
    "        if v > val:\n",
    "            larger = i\n",
    "            break\n",
    "    if smaller == -1:\n",
    "        return 0\n",
    "    smaller_val = stopping_distances[smaller]\n",
    "    if larger == -1:\n",
    "        larger_val = stopping_distances[14] * 1.1\n",
    "    else:\n",
    "        larger_val = stopping_distances[larger]\n",
    "    diff = larger_val - smaller_val\n",
    "    r = (val - velocities[smaller]) / (velocities[larger] - velocities[smaller]) if velocities[larger] != velocities[smaller] else 1\n",
    "    #print(r)\n",
    "    return smaller_val + diff * r\n",
    "        \n",
    "vals_res = list(map(get_sd_interpol, vals))\n",
    "#print(vals_res)\n",
    "print('errors with interpoliation: ==================================')\n",
    "print(list(map(lambda x: stopping_distances[x[0]] - get_sd_interpol(x[1]), enumerate(velocities))))\n",
    "plt.plot(vals, vals_res)\n",
    "plt.show()"
   ]
  },
  {
   "cell_type": "code",
   "execution_count": null,
   "metadata": {
    "collapsed": true
   },
   "outputs": [],
   "source": []
  },
  {
   "cell_type": "code",
   "execution_count": null,
   "metadata": {
    "collapsed": true
   },
   "outputs": [],
   "source": []
  }
 ],
 "metadata": {
  "kernelspec": {
   "display_name": "Python 3",
   "language": "python",
   "name": "python3"
  },
  "language_info": {
   "codemirror_mode": {
    "name": "ipython",
    "version": 3
   },
   "file_extension": ".py",
   "mimetype": "text/x-python",
   "name": "python",
   "nbconvert_exporter": "python",
   "pygments_lexer": "ipython3",
   "version": "3.6.4"
  }
 },
 "nbformat": 4,
 "nbformat_minor": 2
}
