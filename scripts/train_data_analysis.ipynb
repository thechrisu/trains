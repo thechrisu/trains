{
 "cells": [
  {
   "cell_type": "code",
   "execution_count": 12,
   "metadata": {},
   "outputs": [
    {
     "name": "stdout",
     "output_type": "stream",
     "text": [
      "15\n",
      "[0, 1, 2, 3, 4, 5, 6, 7, 8, 9, 10, 11, 12, 13, 14]\n",
      "[  0.80616977  -5.37389122  16.86623686  -9.08379739]\n",
      "[0, 1.1, 3.5, 7.4, 19.6, 39.8, 74.4, 127.9, 200.9, 306.7, 436.4, 601.6, 802.2, 1023.3, 1423.42]\n",
      "[-9.0837973856203487, 3.2147180205419215, 9.6024695827051101, 14.916475903181935, 23.993755584285111, 41.67132722832735, 72.786209437621366, 122.17542081447989, 194.67597996121557, 295.12490548014119, 428.35921597356941, 599.21593004381316, 812.5320662931847, 1073.1446433239971, 1385.8906797385632]\n"
     ]
    },
    {
     "data": {
      "image/png": "[encoded data removed]",
      "text/plain": [
       "<matplotlib.figure.Figure at 0x109c3bb70>"
      ]
     },
     "metadata": {},
     "output_type": "display_data"
    }
   ],
   "source": [
    "import numpy as np\n",
    "\n",
    "import matplotlib.pyplot as plt\n",
    "\n",
    "data = [\n",
    "    0,\n",
    "    1.1,\n",
    "    3.5,\n",
    "    7.4,\n",
    "    19.6,\n",
    "    39.8,\n",
    "    74.4,\n",
    "    127.9,\n",
    "    200.9,\n",
    "    306.7,\n",
    "    436.4,\n",
    "    601.6,\n",
    "    802.2,\n",
    "    1023.3,\n",
    "    1423.42\n",
    "]\n",
    "\n",
    "x_vals = list(range(len(data)))\n",
    "\n",
    "print(len(data))\n",
    "print(x_vals)\n",
    "\n",
    "npres = np.polyfit(x_vals, data, deg=3)\n",
    "\n",
    "fitted_vals = list(map(lambda x: npres[0] * (x**3) + npres[1] * (x**2) + npres[2] * x + npres[3], x_vals))\n",
    "print(npres)\n",
    "\n",
    "print(data)\n",
    "print(fitted_vals)\n",
    "'''\n",
    "npres[0] * x^3 + npres[1] * x^2 + npres[2] * x + npres[3]\n",
    "'''\n",
    "\n",
    "plt.plot(data)\n",
    "plt.plot(fitted_vals)\n",
    "plt.show()"
   ]
  },
  {
   "cell_type": "code",
   "execution_count": 10,
   "metadata": {},
   "outputs": [
    {
     "ename": "NameError",
     "evalue": "name 'fitted_vals' is not defined",
     "output_type": "error",
     "traceback": [
      "\u001b[0;31m---------------------------------------------------------------------------\u001b[0m",
      "\u001b[0;31mNameError\u001b[0m                                 Traceback (most recent call last)",
      "\u001b[0;32m<ipython-input-10-19123634a8ce>\u001b[0m in \u001b[0;36m<module>\u001b[0;34m()\u001b[0m\n\u001b[1;32m      2\u001b[0m \u001b[0;34m\u001b[0m\u001b[0m\n\u001b[1;32m      3\u001b[0m \u001b[0mplt\u001b[0m\u001b[0;34m.\u001b[0m\u001b[0mplot\u001b[0m\u001b[0;34m(\u001b[0m\u001b[0mdata\u001b[0m\u001b[0;34m)\u001b[0m\u001b[0;34m\u001b[0m\u001b[0m\n\u001b[0;32m----> 4\u001b[0;31m \u001b[0mplt\u001b[0m\u001b[0;34m.\u001b[0m\u001b[0mplot\u001b[0m\u001b[0;34m(\u001b[0m\u001b[0mfitted_vals\u001b[0m\u001b[0;34m)\u001b[0m\u001b[0;34m\u001b[0m\u001b[0m\n\u001b[0m\u001b[1;32m      5\u001b[0m \u001b[0mplt\u001b[0m\u001b[0;34m.\u001b[0m\u001b[0mshow\u001b[0m\u001b[0;34m(\u001b[0m\u001b[0;34m)\u001b[0m\u001b[0;34m\u001b[0m\u001b[0m\n",
      "\u001b[0;31mNameError\u001b[0m: name 'fitted_vals' is not defined"
     ]
    }
   ],
   "source": []
  }
 ],
 "metadata": {
  "kernelspec": {
   "display_name": "Python 3",
   "language": "python",
   "name": "python3"
  },
  "language_info": {
   "codemirror_mode": {
    "name": "ipython",
    "version": 3
   },
   "file_extension": ".py",
   "mimetype": "text/x-python",
   "name": "python",
   "nbconvert_exporter": "python",
   "pygments_lexer": "ipython3",
   "version": "3.6.3"
  }
 },
 "nbformat": 4,
 "nbformat_minor": 2
}
